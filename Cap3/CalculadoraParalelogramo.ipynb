{
 "cells": [
  {
   "cell_type": "code",
   "execution_count": 9,
   "id": "d5a346e8-b3da-4c35-a8c9-292949efdecc",
   "metadata": {},
   "outputs": [
    {
     "name": "stdout",
     "output_type": "stream",
     "text": [
      "Bem-vindo ao Calculador de área de um Paralelogramo\n"
     ]
    },
    {
     "name": "stdin",
     "output_type": "stream",
     "text": [
      "Qual a base deseja calcular? 10\n",
      "Qual altura deseja calcular? 5\n"
     ]
    },
    {
     "name": "stdout",
     "output_type": "stream",
     "text": [
      "A área do paralelogamo é de  50 metros quadrados\n"
     ]
    }
   ],
   "source": [
    "print(\"Bem-vindo ao Calculador de área de um Paralelogramo\")\n",
    "base = int(input(\"Qual a base deseja calcular?\"))\n",
    "altura = int(input(\"Qual altura deseja calcular?\"))\n",
    "area = base * altura\n",
    "print(\"A área do paralelogamo é de \" ,area , \"metros quadrados\")"
   ]
  },
  {
   "cell_type": "code",
   "execution_count": null,
   "id": "692d35f0-5fa2-4aa3-bb20-685a0b323b42",
   "metadata": {},
   "outputs": [],
   "source": []
  }
 ],
 "metadata": {
  "kernelspec": {
   "display_name": "Python 3 (ipykernel)",
   "language": "python",
   "name": "python3"
  },
  "language_info": {
   "codemirror_mode": {
    "name": "ipython",
    "version": 3
   },
   "file_extension": ".py",
   "mimetype": "text/x-python",
   "name": "python",
   "nbconvert_exporter": "python",
   "pygments_lexer": "ipython3",
   "version": "3.12.7"
  }
 },
 "nbformat": 4,
 "nbformat_minor": 5
}
